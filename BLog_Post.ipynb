{
  "nbformat": 4,
  "nbformat_minor": 0,
  "metadata": {
    "colab": {
      "provenance": []
    },
    "kernelspec": {
      "name": "python3",
      "display_name": "Python 3"
    },
    "language_info": {
      "name": "python"
    }
  },
  "cells": [
    {
      "cell_type": "code",
      "execution_count": null,
      "metadata": {
        "colab": {
          "base_uri": "https://localhost:8080/"
        },
        "id": "QO_SFsalOfz4",
        "outputId": "694bdabe-09d5-4fb2-8011-53d57a385b82"
      },
      "outputs": [
        {
          "output_type": "stream",
          "name": "stdout",
          "text": [
            "Collecting groq\n",
            "  Downloading groq-0.29.0-py3-none-any.whl.metadata (16 kB)\n",
            "Requirement already satisfied: anyio<5,>=3.5.0 in /usr/local/lib/python3.11/dist-packages (from groq) (4.9.0)\n",
            "Requirement already satisfied: distro<2,>=1.7.0 in /usr/local/lib/python3.11/dist-packages (from groq) (1.9.0)\n",
            "Requirement already satisfied: httpx<1,>=0.23.0 in /usr/local/lib/python3.11/dist-packages (from groq) (0.28.1)\n",
            "Requirement already satisfied: pydantic<3,>=1.9.0 in /usr/local/lib/python3.11/dist-packages (from groq) (2.11.7)\n",
            "Requirement already satisfied: sniffio in /usr/local/lib/python3.11/dist-packages (from groq) (1.3.1)\n",
            "Requirement already satisfied: typing-extensions<5,>=4.10 in /usr/local/lib/python3.11/dist-packages (from groq) (4.14.1)\n",
            "Requirement already satisfied: idna>=2.8 in /usr/local/lib/python3.11/dist-packages (from anyio<5,>=3.5.0->groq) (3.10)\n",
            "Requirement already satisfied: certifi in /usr/local/lib/python3.11/dist-packages (from httpx<1,>=0.23.0->groq) (2025.6.15)\n",
            "Requirement already satisfied: httpcore==1.* in /usr/local/lib/python3.11/dist-packages (from httpx<1,>=0.23.0->groq) (1.0.9)\n",
            "Requirement already satisfied: h11>=0.16 in /usr/local/lib/python3.11/dist-packages (from httpcore==1.*->httpx<1,>=0.23.0->groq) (0.16.0)\n",
            "Requirement already satisfied: annotated-types>=0.6.0 in /usr/local/lib/python3.11/dist-packages (from pydantic<3,>=1.9.0->groq) (0.7.0)\n",
            "Requirement already satisfied: pydantic-core==2.33.2 in /usr/local/lib/python3.11/dist-packages (from pydantic<3,>=1.9.0->groq) (2.33.2)\n",
            "Requirement already satisfied: typing-inspection>=0.4.0 in /usr/local/lib/python3.11/dist-packages (from pydantic<3,>=1.9.0->groq) (0.4.1)\n",
            "Downloading groq-0.29.0-py3-none-any.whl (130 kB)\n",
            "\u001b[2K   \u001b[90m━━━━━━━━━━━━━━━━━━━━━━━━━━━━━━━━━━━━━━━━\u001b[0m \u001b[32m130.8/130.8 kB\u001b[0m \u001b[31m3.2 MB/s\u001b[0m eta \u001b[36m0:00:00\u001b[0m\n",
            "\u001b[?25hInstalling collected packages: groq\n",
            "Successfully installed groq-0.29.0\n"
          ]
        }
      ],
      "source": [
        "%pip install groq"
      ]
    },
    {
      "cell_type": "markdown",
      "source": [
        "##**Load API Key Grom** **Groq**##"
      ],
      "metadata": {
        "id": "cr9VtWWyTD_D"
      }
    },
    {
      "cell_type": "code",
      "source": [
        "import os\n",
        "from google.colab import userdata\n",
        "\n",
        "# Access the API key from Colab secrets\n",
        "groq_api_key = userdata.get('GROQ_API_KEY')\n",
        "\n",
        "# You can set it as an environment variable, which some libraries might look for\n",
        "# Or hard code if you are having issues\n",
        "os.environ[\"GROQ_API_KEY\"] = groq_api_key\n",
        "\n",
        "print(\"Groq API key loaded successfully.\")"
      ],
      "metadata": {
        "colab": {
          "base_uri": "https://localhost:8080/"
        },
        "id": "nW431lYWPXDs",
        "outputId": "8a29b05c-0ca9-468a-caf4-3924debd6dd9"
      },
      "execution_count": null,
      "outputs": [
        {
          "output_type": "stream",
          "name": "stdout",
          "text": [
            "Groq API key loaded successfully.\n"
          ]
        }
      ]
    },
    {
      "cell_type": "markdown",
      "source": [
        "##**Task 1: Blog Post Generator (Student Take-Home Work)**##\n",
        "##I Have improve the blog post generator to accept keywords and produce an SEO-optimized article using the llama3-70b-8192 model.\n",
        "\n",
        "## **Following Instructions ha been Modified:**\n",
        "\n",
        "###Modify the generate_blog_post function to accept a list of keywords in addition to the main topic.\n",
        "###Update the prompt sent to the LLM to instruct it to:\n",
        "###Write a blog post about the given topic.\n",
        "###Incorporate the provided keywords naturally within the content.\n",
        "###Aim for SEO optimization by structuring the post with headings, using the keywords appropriately, and creating engaging content.\n",
        "###Update the input section to allow the user to enter keywords (e.g., comma-separated).\n",
        "###Consider adding some basic validation for the input."
      ],
      "metadata": {
        "id": "DCvAHYJmTiwj"
      }
    },
    {
      "cell_type": "code",
      "source": [
        "from groq import Groq\n",
        "import os\n",
        "\n",
        "# Initialize the Groq client with your API key\n",
        "client = Groq(api_key=os.environ.get(\"GROQ_API_KEY\"))\n",
        "\n",
        "def generate_blog_post(topic, keywords):\n",
        "    \"\"\"Generates an SEO-optimized blog post about a given topic using Llama 70B, incorporating specified keywords.\"\"\"\n",
        "    # Prepare keyword list string\n",
        "    keyword_str = \", \".join(keywords)\n",
        "\n",
        "    try:\n",
        "        prompt = (\n",
        "            f\"Write a blog post about '{topic}'.\\n\"\n",
        "            f\"Use the following keywords naturally throughout the article for SEO optimization: {keyword_str}.\\n\"\n",
        "            \"Structure the blog post with an engaging introduction, informative body with proper subheadings (like H2/H3), and a strong conclusion.\\n\"\n",
        "            \"Ensure the keywords appear in titles, headings, and throughout the body where appropriate, but keep the content natural and human-like.\"\n",
        "        )\n",
        "\n",
        "        chat_completion = client.chat.completions.create(\n",
        "            messages=[\n",
        "                {\n",
        "                    \"role\": \"user\",\n",
        "                    \"content\": prompt,\n",
        "                }\n",
        "            ],\n",
        "            model=\"llama3-70b-8192\",\n",
        "        )\n",
        "        return chat_completion.choices[0].message.content\n",
        "    except Exception as e:\n",
        "        return f\"An error occurred: {e}\"\n",
        "\n",
        "def get_keywords_input():\n",
        "    \"\"\"Prompts the user to enter comma-separated keywords and validates them.\"\"\"\n",
        "    raw_input = input(\"Enter keywords (comma-separated): \").strip()\n",
        "    if not raw_input:\n",
        "        print(\"No keywords entered. Using an empty list.\")\n",
        "        return []\n",
        "\n",
        "    # Split and clean the keywords\n",
        "    keywords = [kw.strip() for kw in raw_input.split(\",\") if kw.strip()]\n",
        "    return keywords\n",
        "\n",
        "# Get inputs from the user\n",
        "blog_topic = input(\"Enter the topic for your blog post: \").strip()\n",
        "while not blog_topic:\n",
        "    blog_topic = input(\"Topic cannot be empty. Please enter a topic: \").strip()\n",
        "\n",
        "keywords_list = get_keywords_input()\n",
        "\n",
        "# Generate and print the blog post\n",
        "generated_post = generate_blog_post(blog_topic, keywords_list)\n",
        "print(\"\\n--- Generated Blog Post ---\")\n",
        "print(generated_post)\n"
      ],
      "metadata": {
        "colab": {
          "base_uri": "https://localhost:8080/"
        },
        "id": "ko4pP0iEW-Cw",
        "outputId": "293c6a1c-b845-4fee-f340-8822ded63137"
      },
      "execution_count": null,
      "outputs": [
        {
          "output_type": "stream",
          "name": "stdout",
          "text": [
            "Enter the topic for your blog post: Pakistan as a Nation\n",
            "Enter keywords (comma-separated): Nation\n",
            "\n",
            "--- Generated Blog Post ---\n",
            "**Pakistan as a Nation: A Beacon of Hope and Resilience**\n",
            "\n",
            "Pakistan, a nation born out of a struggle for independence, has come a long way since its inception in 1947. Despite facing numerous challenges and obstacles, Pakistan has emerged as a beacon of hope and resilience, showcasing its strength and determination to the world. In this blog post, we'll delve into the journey of Pakistan as a nation, exploring its history, cultural diversity, economic growth, and the challenges it has overcome.\n",
            "\n",
            "**A Nation Born Out of Sacrifice**\n",
            "\n",
            "Pakistan's creation was a result of the efforts of Muhammad Ali Jinnah, also known as Quaid-e-Azam, who fought tirelessly for the rights of Muslims in the Indian subcontinent. The country's foundation was laid on the principles of democracy, equality, and justice, with a vision to create a nation where Muslims could live freely and practice their faith without fear of persecution. The partition of India and Pakistan resulted in one of the largest mass migrations in history, with millions of people making the arduous journey to their new homeland.\n",
            "\n",
            "**Cultural Diversity: A Melting Pot of Traditions**\n",
            "\n",
            "Pakistan is home to a diverse range of cultures, languages, and ethnicities. From the majestic Karakoram mountains in the north to the vast deserts of Sindh in the south, the country's landscape is as varied as its people. The nation is divided into four provinces: Punjab, Sindh, Khyber Pakhtunkhwa, and Balochistan, each with its unique cultural heritage and traditions. Urdu, the national language, is spoken by the majority of the population, while regional languages such as Punjabi, Sindhi, Pashto, and Balochi are also widely spoken.\n",
            "\n",
            "**Economic Growth: A Nation on the Rise**\n",
            "\n",
            "Despite facing numerous economic challenges, Pakistan has shown remarkable resilience and growth. The country's economy is largely driven by its textiles, agriculture, and manufacturing industries. In recent years, Pakistan has witnessed a significant increase in foreign investment, particularly in the energy and infrastructure sectors. The China-Pakistan Economic Corridor (CPEC) project, a flagship initiative of the Belt and Road Initiative, has been instrumental in boosting Pakistan's economic growth.\n",
            "\n",
            "**Challenges Overcome: A Testament to National Spirit**\n",
            "\n",
            "Pakistan has faced its fair share of challenges, including terrorism, political instability, and natural disasters. However, the nation has consistently shown its ability to bounce back from adversity. The successful military operations against terrorist groups, the establishment of a democratic government, and the implementation of economic reforms are testaments to the nation's resilience and determination.\n",
            "\n",
            "**A Beacon of Hope for the Future**\n",
            "\n",
            "In conclusion, Pakistan as a nation has come a long way since its inception. Despite facing numerous challenges, the country has shown remarkable growth, resilience, and determination. As a nation, Pakistan continues to be a beacon of hope for its citizens and a symbol of strength for the world. With its rich cultural heritage, economic potential, and unwavering national spirit, Pakistan is poised to overcome its challenges and emerge as a strong, prosperous, and thriving nation.\n",
            "\n",
            "**Keywords:** Pakistan as a nation, nation born out of sacrifice, cultural diversity, economic growth, challenges overcome, beacon of hope.\n"
          ]
        }
      ]
    }
  ]
}